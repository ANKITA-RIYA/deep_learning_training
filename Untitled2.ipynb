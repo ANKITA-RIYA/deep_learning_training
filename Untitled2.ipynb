{
  "nbformat": 4,
  "nbformat_minor": 0,
  "metadata": {
    "colab": {
      "name": "Untitled2.ipynb",
      "provenance": [],
      "collapsed_sections": [],
      "authorship_tag": "ABX9TyOsPGMfZkEQVoF1eM76Levu",
      "include_colab_link": true
    },
    "kernelspec": {
      "name": "python3",
      "display_name": "Python 3"
    },
    "language_info": {
      "name": "python"
    },
    "accelerator": "GPU"
  },
  "cells": [
    {
      "cell_type": "markdown",
      "metadata": {
        "id": "view-in-github",
        "colab_type": "text"
      },
      "source": [
        "<a href=\"https://colab.research.google.com/github/ANKITA-RIYA/deep_learning_training/blob/main/Untitled2.ipynb\" target=\"_parent\"><img src=\"https://colab.research.google.com/assets/colab-badge.svg\" alt=\"Open In Colab\"/></a>"
      ]
    },
    {
      "cell_type": "code",
      "metadata": {
        "colab": {
          "base_uri": "https://localhost:8080/"
        },
        "id": "Xv_nsE5X0gIE",
        "outputId": "9d2e6204-8c04-4ef5-cb7e-3e39329f50d6"
      },
      "source": [
        "def mergeSort(array):\n",
        "    if len(array) > 1:\n",
        "        \n",
        "        r = len(array)//2\n",
        "        l = array[:r]\n",
        "        m = array[r:]\n",
        "\n",
        "        mergeSort(l)\n",
        "        mergeSort(m)\n",
        "        i = j = k = 0\n",
        "\n",
        "        while i < len(l) and j < len(m):\n",
        "            if l[i] < m[j]:\n",
        "                array[k] = l[i]\n",
        "                i += 1\n",
        "            else:\n",
        "                array[k] = m[j]\n",
        "                j += 1\n",
        "            k += 1\n",
        "\n",
        "        while i < len(l):\n",
        "            array[k] = l[i]\n",
        "            i += 1\n",
        "            k += 1\n",
        "\n",
        "        while j < len(m):\n",
        "            array[k] = m[j]\n",
        "            j += 1\n",
        "            k += 1\n",
        "\n",
        "def printList(array):\n",
        "    for i in range(len(array)):\n",
        "        print(array[i], end=\" \")\n",
        "    print()\n",
        "\n",
        "if __name__ == '__main__':\n",
        "    array = [6, 5, 12, 10, 9, 1]\n",
        "    print(\"Unsorted Array\")\n",
        "    print(array) \n",
        "    mergeSort(array)\n",
        "    print(\"Sorted array is: \")\n",
        "    printList(array)"
      ],
      "execution_count": null,
      "outputs": [
        {
          "output_type": "stream",
          "name": "stdout",
          "text": [
            "Unsorted Array\n",
            "[6, 5, 12, 10, 9, 1]\n",
            "Sorted array is: \n",
            "1 5 6 9 10 12 \n"
          ]
        }
      ]
    },
    {
      "cell_type": "code",
      "metadata": {
        "id": "AJtYjD3Z2Va8"
      },
      "source": [
        ""
      ],
      "execution_count": null,
      "outputs": []
    },
    {
      "cell_type": "code",
      "metadata": {
        "colab": {
          "base_uri": "https://localhost:8080/"
        },
        "id": "DL432Rhu2WKP",
        "outputId": "484ce170-1f59-4470-d438-06875795c799"
      },
      "source": [
        "def partition(array, low, high):  \n",
        "  pivot = array[high]\n",
        "  i = low - 1 \n",
        "  for j in range(low, high):\n",
        "    if array[j] <= pivot:\n",
        "      i = i + 1 \n",
        "      (array[i], array[j]) = (array[j], array[i]) \n",
        "  (array[i + 1], array[high]) = (array[high], array[i + 1]) \n",
        "\n",
        "  return i + 1\n",
        "def quickSort(array, low, high):\n",
        "  if low < high:\n",
        "    pi = partition(array, low, high)\n",
        "    quickSort(array, low, pi - 1)\n",
        "    quickSort(array, pi + 1, high)\n",
        "\n",
        "data = [8, 7, 2, 1, 0, 9, 6]\n",
        "print(\"Unsorted Array\")\n",
        "print(data)\n",
        "size = len(data)\n",
        "quickSort(data, 0, size - 1)\n",
        "print('Sorted Array in Ascending Order:')\n",
        "print(data)"
      ],
      "execution_count": null,
      "outputs": [
        {
          "output_type": "stream",
          "name": "stdout",
          "text": [
            "Unsorted Array\n",
            "[8, 7, 2, 1, 0, 9, 6]\n",
            "Sorted Array in Ascending Order:\n",
            "[0, 1, 2, 6, 7, 8, 9]\n"
          ]
        }
      ]
    }
  ]
}